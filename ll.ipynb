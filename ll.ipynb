{
 "cells": [
  {
   "cell_type": "code",
   "execution_count": 1,
   "id": "d8aadc2a",
   "metadata": {},
   "outputs": [],
   "source": [
    "from src.utils.results_utils import ResultsAgent"
   ]
  },
  {
   "cell_type": "code",
   "execution_count": 2,
   "id": "6b228341",
   "metadata": {},
   "outputs": [
    {
     "name": "stdout",
     "output_type": "stream",
     "text": [
      "Loading consolidated data from ./static/consolidated_data.parquet...\n",
      "Loaded 155168 records from consolidated file.\n",
      "Debug: CSV shape: (1, 36)\n",
      "Debug: CSV columns: ['inputs.image_id', 'outputs.number', 'outputs.country', 'outputs.name', 'outputs.surname', 'outputs.middle name', 'outputs.gender', 'outputs.place of birth', 'outputs.birth date', 'outputs.issue date', 'outputs.expiry date', 'outputs.mother name', 'outputs.father name', 'outputs.spouse name', 'outputs.place of issue', 'outputs.country of issue', 'outputs.mrzLine1', 'outputs.mrzLine2', 'outputs.original number', 'probability.number', 'probability.country', 'probability.name', 'probability.surname', 'probability.middle name', 'probability.gender', 'probability.place of birth', 'probability.birth date', 'probability.issue date', 'probability.expiry date', 'probability.mother name', 'probability.father name', 'probability.spouse name', 'probability.place of issue', 'probability.country of issue', 'probability.mrzLine1', 'probability.mrzLine2']\n",
      "Debug: Sample probability values in CSV:\n",
      "  probability.number: 0.97\n",
      "  probability.country: 1.0\n",
      "  probability.name: 0.97\n",
      "  probability.surname: 1.0\n",
      "  probability.middle name: 1.0\n",
      "Debug: Consolidated data shape: (155168, 12)\n",
      "Debug: Consolidated data columns: ['0  ', 'Maid’s ID', 'Maid’s Name', 'Maid’s Nationality', 'Maid’s Type', 'Moving in date to the fill information step', 'Moving out date of the fill information step', 'Did the agent modify the fill info step? (Yes / No) ', 'Modified Field', 'OCR Certainty', 'OCR Value', 'Agent Value']\n",
      "Debug: Merged data shape: (13, 48)\n",
      "Debug: Sample merged row columns related to our maid_id 47648:\n",
      "  No matching row found in merged data\n"
     ]
    },
    {
     "ename": "AttributeError",
     "evalue": "'numpy.float64' object has no attribute 'iloc'",
     "output_type": "error",
     "traceback": [
      "\u001b[31m---------------------------------------------------------------------------\u001b[39m",
      "\u001b[31mAttributeError\u001b[39m                            Traceback (most recent call last)",
      "\u001b[36mCell\u001b[39m\u001b[36m \u001b[39m\u001b[32mIn[2]\u001b[39m\u001b[32m, line 11\u001b[39m\n\u001b[32m      4\u001b[39m CREDENTIALS_PATH = \u001b[33m\"\u001b[39m\u001b[33mcredentials.json\u001b[39m\u001b[33m\"\u001b[39m\n\u001b[32m      5\u001b[39m RESULTS_CSV = \u001b[33mf\u001b[39m\u001b[33m\"\u001b[39m\u001b[33mresults/regula_\u001b[39m\u001b[38;5;132;01m{\u001b[39;00mDATASET_COUNTRY\u001b[38;5;132;01m}\u001b[39;00m\u001b[33m_results.csv\u001b[39m\u001b[33m\"\u001b[39m\n\u001b[32m      7\u001b[39m \u001b[43mResultsAgent\u001b[49m\u001b[43m(\u001b[49m\n\u001b[32m      8\u001b[39m \u001b[43m        \u001b[49m\u001b[43mspreadsheet_id\u001b[49m\u001b[43m=\u001b[49m\u001b[43mSPREADSHEET_ID\u001b[49m\u001b[43m,\u001b[49m\n\u001b[32m      9\u001b[39m \u001b[43m        \u001b[49m\u001b[43mcredentials_path\u001b[49m\u001b[43m=\u001b[49m\u001b[43mCREDENTIALS_PATH\u001b[49m\u001b[43m,\u001b[49m\n\u001b[32m     10\u001b[39m \u001b[43m        \u001b[49m\u001b[43mcountry\u001b[49m\u001b[43m=\u001b[49m\u001b[43mDATASET_COUNTRY\u001b[49m\u001b[43m,\u001b[49m\n\u001b[32m---> \u001b[39m\u001b[32m11\u001b[39m \u001b[43m    \u001b[49m\u001b[43m)\u001b[49m\u001b[43m.\u001b[49m\u001b[43mupload_results\u001b[49m\u001b[43m(\u001b[49m\u001b[43mRESULTS_CSV\u001b[49m\u001b[43m)\u001b[49m\n",
      "\u001b[36mFile \u001b[39m\u001b[32m~/Downloads/Maids/regula_doc_reader_py/src/utils/results_utils.py:269\u001b[39m, in \u001b[36mResultsAgent.upload_results\u001b[39m\u001b[34m(self, csv_file_path)\u001b[39m\n\u001b[32m    267\u001b[39m \u001b[38;5;66;03m# Compute model outputs per row of the review data\u001b[39;00m\n\u001b[32m    268\u001b[39m filtered_df[value_col] = filtered_df.apply(_get_model_value, axis=\u001b[32m1\u001b[39m)\n\u001b[32m--> \u001b[39m\u001b[32m269\u001b[39m filtered_df[probability_col] = \u001b[43mfiltered_df\u001b[49m\u001b[43m.\u001b[49m\u001b[43mapply\u001b[49m\u001b[43m(\u001b[49m\u001b[43m_get_model_probability\u001b[49m\u001b[43m,\u001b[49m\u001b[43m \u001b[49m\u001b[43maxis\u001b[49m\u001b[43m=\u001b[49m\u001b[32;43m1\u001b[39;49m\u001b[43m)\u001b[49m\n\u001b[32m    270\u001b[39m filtered_df[\u001b[33m\"\u001b[39m\u001b[33mEdited Agent Value\u001b[39m\u001b[33m\"\u001b[39m] = filtered_df.apply(\n\u001b[32m    271\u001b[39m     \u001b[38;5;28;01mlambda\u001b[39;00m row: \u001b[38;5;28mself\u001b[39m.edit_agent_value(row.get(\u001b[33m\"\u001b[39m\u001b[33mAgent Value\u001b[39m\u001b[33m\"\u001b[39m, \u001b[33m\"\u001b[39m\u001b[33m\"\u001b[39m), row.get(\u001b[33m\"\u001b[39m\u001b[33mModified Field\u001b[39m\u001b[33m\"\u001b[39m, \u001b[33m\"\u001b[39m\u001b[33m\"\u001b[39m)),\n\u001b[32m    272\u001b[39m     axis=\u001b[32m1\u001b[39m,\n\u001b[32m    273\u001b[39m )\n\u001b[32m    274\u001b[39m filtered_df[\u001b[33m\"\u001b[39m\u001b[33mSimilarity\u001b[39m\u001b[33m\"\u001b[39m] = filtered_df[value_col] == filtered_df[\u001b[33m\"\u001b[39m\u001b[33mEdited Agent Value\u001b[39m\u001b[33m\"\u001b[39m]\n",
      "\u001b[36mFile \u001b[39m\u001b[32m/opt/anaconda3/envs/regula/lib/python3.13/site-packages/pandas/core/frame.py:10381\u001b[39m, in \u001b[36mDataFrame.apply\u001b[39m\u001b[34m(self, func, axis, raw, result_type, args, by_row, engine, engine_kwargs, **kwargs)\u001b[39m\n\u001b[32m  10367\u001b[39m \u001b[38;5;28;01mfrom\u001b[39;00m\u001b[38;5;250m \u001b[39m\u001b[34;01mpandas\u001b[39;00m\u001b[34;01m.\u001b[39;00m\u001b[34;01mcore\u001b[39;00m\u001b[34;01m.\u001b[39;00m\u001b[34;01mapply\u001b[39;00m\u001b[38;5;250m \u001b[39m\u001b[38;5;28;01mimport\u001b[39;00m frame_apply\n\u001b[32m  10369\u001b[39m op = frame_apply(\n\u001b[32m  10370\u001b[39m     \u001b[38;5;28mself\u001b[39m,\n\u001b[32m  10371\u001b[39m     func=func,\n\u001b[32m   (...)\u001b[39m\u001b[32m  10379\u001b[39m     kwargs=kwargs,\n\u001b[32m  10380\u001b[39m )\n\u001b[32m> \u001b[39m\u001b[32m10381\u001b[39m \u001b[38;5;28;01mreturn\u001b[39;00m \u001b[43mop\u001b[49m\u001b[43m.\u001b[49m\u001b[43mapply\u001b[49m\u001b[43m(\u001b[49m\u001b[43m)\u001b[49m.__finalize__(\u001b[38;5;28mself\u001b[39m, method=\u001b[33m\"\u001b[39m\u001b[33mapply\u001b[39m\u001b[33m\"\u001b[39m)\n",
      "\u001b[36mFile \u001b[39m\u001b[32m/opt/anaconda3/envs/regula/lib/python3.13/site-packages/pandas/core/apply.py:916\u001b[39m, in \u001b[36mFrameApply.apply\u001b[39m\u001b[34m(self)\u001b[39m\n\u001b[32m    913\u001b[39m \u001b[38;5;28;01melif\u001b[39;00m \u001b[38;5;28mself\u001b[39m.raw:\n\u001b[32m    914\u001b[39m     \u001b[38;5;28;01mreturn\u001b[39;00m \u001b[38;5;28mself\u001b[39m.apply_raw(engine=\u001b[38;5;28mself\u001b[39m.engine, engine_kwargs=\u001b[38;5;28mself\u001b[39m.engine_kwargs)\n\u001b[32m--> \u001b[39m\u001b[32m916\u001b[39m \u001b[38;5;28;01mreturn\u001b[39;00m \u001b[38;5;28;43mself\u001b[39;49m\u001b[43m.\u001b[49m\u001b[43mapply_standard\u001b[49m\u001b[43m(\u001b[49m\u001b[43m)\u001b[49m\n",
      "\u001b[36mFile \u001b[39m\u001b[32m/opt/anaconda3/envs/regula/lib/python3.13/site-packages/pandas/core/apply.py:1063\u001b[39m, in \u001b[36mFrameApply.apply_standard\u001b[39m\u001b[34m(self)\u001b[39m\n\u001b[32m   1061\u001b[39m \u001b[38;5;28;01mdef\u001b[39;00m\u001b[38;5;250m \u001b[39m\u001b[34mapply_standard\u001b[39m(\u001b[38;5;28mself\u001b[39m):\n\u001b[32m   1062\u001b[39m     \u001b[38;5;28;01mif\u001b[39;00m \u001b[38;5;28mself\u001b[39m.engine == \u001b[33m\"\u001b[39m\u001b[33mpython\u001b[39m\u001b[33m\"\u001b[39m:\n\u001b[32m-> \u001b[39m\u001b[32m1063\u001b[39m         results, res_index = \u001b[38;5;28;43mself\u001b[39;49m\u001b[43m.\u001b[49m\u001b[43mapply_series_generator\u001b[49m\u001b[43m(\u001b[49m\u001b[43m)\u001b[49m\n\u001b[32m   1064\u001b[39m     \u001b[38;5;28;01melse\u001b[39;00m:\n\u001b[32m   1065\u001b[39m         results, res_index = \u001b[38;5;28mself\u001b[39m.apply_series_numba()\n",
      "\u001b[36mFile \u001b[39m\u001b[32m/opt/anaconda3/envs/regula/lib/python3.13/site-packages/pandas/core/apply.py:1081\u001b[39m, in \u001b[36mFrameApply.apply_series_generator\u001b[39m\u001b[34m(self)\u001b[39m\n\u001b[32m   1078\u001b[39m \u001b[38;5;28;01mwith\u001b[39;00m option_context(\u001b[33m\"\u001b[39m\u001b[33mmode.chained_assignment\u001b[39m\u001b[33m\"\u001b[39m, \u001b[38;5;28;01mNone\u001b[39;00m):\n\u001b[32m   1079\u001b[39m     \u001b[38;5;28;01mfor\u001b[39;00m i, v \u001b[38;5;129;01min\u001b[39;00m \u001b[38;5;28menumerate\u001b[39m(series_gen):\n\u001b[32m   1080\u001b[39m         \u001b[38;5;66;03m# ignore SettingWithCopy here in case the user mutates\u001b[39;00m\n\u001b[32m-> \u001b[39m\u001b[32m1081\u001b[39m         results[i] = \u001b[38;5;28;43mself\u001b[39;49m\u001b[43m.\u001b[49m\u001b[43mfunc\u001b[49m\u001b[43m(\u001b[49m\u001b[43mv\u001b[49m\u001b[43m,\u001b[49m\u001b[43m \u001b[49m\u001b[43m*\u001b[49m\u001b[38;5;28;43mself\u001b[39;49m\u001b[43m.\u001b[49m\u001b[43margs\u001b[49m\u001b[43m,\u001b[49m\u001b[43m \u001b[49m\u001b[43m*\u001b[49m\u001b[43m*\u001b[49m\u001b[38;5;28;43mself\u001b[39;49m\u001b[43m.\u001b[49m\u001b[43mkwargs\u001b[49m\u001b[43m)\u001b[49m\n\u001b[32m   1082\u001b[39m         \u001b[38;5;28;01mif\u001b[39;00m \u001b[38;5;28misinstance\u001b[39m(results[i], ABCSeries):\n\u001b[32m   1083\u001b[39m             \u001b[38;5;66;03m# If we have a view on v, we need to make a copy because\u001b[39;00m\n\u001b[32m   1084\u001b[39m             \u001b[38;5;66;03m#  series_generator will swap out the underlying data\u001b[39;00m\n\u001b[32m   1085\u001b[39m             results[i] = results[i].copy(deep=\u001b[38;5;28;01mFalse\u001b[39;00m)\n",
      "\u001b[36mFile \u001b[39m\u001b[32m~/Downloads/Maids/regula_doc_reader_py/src/utils/results_utils.py:252\u001b[39m, in \u001b[36mResultsAgent.upload_results.<locals>._get_model_probability\u001b[39m\u001b[34m(series)\u001b[39m\n\u001b[32m    249\u001b[39m     \u001b[38;5;28mprint\u001b[39m(\u001b[33mf\u001b[39m\u001b[33m\"\u001b[39m\u001b[33mAvailable probability columns: \u001b[39m\u001b[38;5;132;01m{\u001b[39;00m[col\u001b[38;5;250m \u001b[39m\u001b[38;5;28;01mfor\u001b[39;00m\u001b[38;5;250m \u001b[39mcol\u001b[38;5;250m \u001b[39m\u001b[38;5;129;01min\u001b[39;00m\u001b[38;5;250m \u001b[39mdf.columns\u001b[38;5;250m \u001b[39m\u001b[38;5;28;01mif\u001b[39;00m\u001b[38;5;250m \u001b[39m\u001b[33m'\u001b[39m\u001b[33mprobability\u001b[39m\u001b[33m'\u001b[39m\u001b[38;5;250m \u001b[39m\u001b[38;5;129;01min\u001b[39;00m\u001b[38;5;250m \u001b[39mcol]\u001b[38;5;132;01m}\u001b[39;00m\u001b[33m\"\u001b[39m)\n\u001b[32m    250\u001b[39m     \u001b[38;5;28;01mreturn\u001b[39;00m \u001b[32m0.0\u001b[39m\n\u001b[32m--> \u001b[39m\u001b[32m252\u001b[39m prob_val = \u001b[43mrow\u001b[49m\u001b[43m[\u001b[49m\u001b[43mprob_col\u001b[49m\u001b[43m]\u001b[49m\u001b[43m.\u001b[49m\u001b[43miloc\u001b[49m[\u001b[32m0\u001b[39m] \u001b[38;5;28;01mif\u001b[39;00m \u001b[38;5;28mlen\u001b[39m(row) > \u001b[32m0\u001b[39m \u001b[38;5;28;01melse\u001b[39;00m \u001b[32m0.0\u001b[39m\n\u001b[32m    253\u001b[39m \u001b[38;5;28mprint\u001b[39m(\u001b[33mf\u001b[39m\u001b[33m\"\u001b[39m\u001b[33mDebug: Field \u001b[39m\u001b[38;5;132;01m{\u001b[39;00mfield\u001b[38;5;132;01m}\u001b[39;00m\u001b[33m -> \u001b[39m\u001b[38;5;132;01m{\u001b[39;00mprob_col\u001b[38;5;132;01m}\u001b[39;00m\u001b[33m = \u001b[39m\u001b[38;5;132;01m{\u001b[39;00mprob_val\u001b[38;5;132;01m}\u001b[39;00m\u001b[33m\"\u001b[39m)\n\u001b[32m    254\u001b[39m \u001b[38;5;28;01mtry\u001b[39;00m:\n",
      "\u001b[31mAttributeError\u001b[39m: 'numpy.float64' object has no attribute 'iloc'"
     ]
    }
   ],
   "source": [
    "IMAGE_PATH = \"data/Philippines\"  # <root>/MaidID/*.{jpg,png,...}\n",
    "DATASET_COUNTRY = IMAGE_PATH.split(\"/\")[-1]\n",
    "SPREADSHEET_ID = \"1ljIem8te0tTKrN8N9jOOnPIRh2zMvv2WB_3FBa4ycgA\"\n",
    "CREDENTIALS_PATH = \"credentials.json\"\n",
    "RESULTS_CSV = f\"results/regula_{DATASET_COUNTRY}_results.csv\"\n",
    "\n",
    "ResultsAgent(\n",
    "        spreadsheet_id=SPREADSHEET_ID,\n",
    "        credentials_path=CREDENTIALS_PATH,\n",
    "        country=DATASET_COUNTRY,\n",
    "    ).upload_results(RESULTS_CSV)"
   ]
  }
 ],
 "metadata": {
  "kernelspec": {
   "display_name": "regula",
   "language": "python",
   "name": "python3"
  },
  "language_info": {
   "codemirror_mode": {
    "name": "ipython",
    "version": 3
   },
   "file_extension": ".py",
   "mimetype": "text/x-python",
   "name": "python",
   "nbconvert_exporter": "python",
   "pygments_lexer": "ipython3",
   "version": "3.13.5"
  }
 },
 "nbformat": 4,
 "nbformat_minor": 5
}
