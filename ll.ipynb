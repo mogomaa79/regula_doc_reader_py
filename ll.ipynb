{
 "cells": [
  {
   "cell_type": "code",
   "execution_count": 1,
   "id": "d8aadc2a",
   "metadata": {},
   "outputs": [],
   "source": [
    "from src.utils.results_utils import ResultsAgent"
   ]
  },
  {
   "cell_type": "code",
   "execution_count": null,
   "id": "6b228341",
   "metadata": {},
   "outputs": [
    {
     "name": "stdout",
     "output_type": "stream",
     "text": [
      "Loading consolidated data from ./static/consolidated_data.parquet...\n",
      "Loaded 155168 records from consolidated file.\n",
      "Empty DataFrame\n",
      "Columns: [Maid’s ID, Modified Field, Edited Agent Value, Regula Value, Similarity, Regula Certainty, Agent Value, OCR Value, Maid’s Nationality]\n",
      "Index: []\n",
      "<Worksheet 'Sheet1' id:0>\n"
     ]
    }
   ],
   "source": [
    "IMAGE_PATH = \"data/kenya\"  # <root>/MaidID/*.{jpg,png,...}\n",
    "DATASET_COUNTRY = IMAGE_PATH.split(\"/\")[-1]\n",
    "SPREADSHEET_ID = \"1ljIem8te0tTKrN8N9jOOnPIRh2zMvv2WB_3FBa4ycgA\"\n",
    "CREDENTIALS_PATH = \"credentials.json\"\n",
    "RESULTS_CSV = \"results/regula_results.csv\"\n",
    "\n",
    "ResultsAgent(\n",
    "        spreadsheet_id=SPREADSHEET_ID,\n",
    "        credentials_path=CREDENTIALS_PATH,\n",
    "        country=DATASET_COUNTRY,\n",
    "    ).upload_results(RESULTS_CSV)î"
   ]
  }
 ],
 "metadata": {
  "kernelspec": {
   "display_name": "regula",
   "language": "python",
   "name": "python3"
  },
  "language_info": {
   "codemirror_mode": {
    "name": "ipython",
    "version": 3
   },
   "file_extension": ".py",
   "mimetype": "text/x-python",
   "name": "python",
   "nbconvert_exporter": "python",
   "pygments_lexer": "ipython3",
   "version": "3.13.5"
  }
 },
 "nbformat": 4,
 "nbformat_minor": 5
}
